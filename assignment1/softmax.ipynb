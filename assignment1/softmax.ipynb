{
 "cells": [
  {
   "cell_type": "markdown",
   "metadata": {},
   "source": [
    "# Softmax exercise\n",
    "\n",
    "*Complete and hand in this completed worksheet (including its outputs and any supporting code outside of the worksheet) with your assignment submission. For more details see the [assignments page](http://vision.stanford.edu/teaching/cs231n/assignments.html) on the course website.*\n",
    "\n",
    "This exercise is analogous to the SVM exercise. You will:\n",
    "\n",
    "- implement a fully-vectorized **loss function** for the Softmax classifier\n",
    "- implement the fully-vectorized expression for its **analytic gradient**\n",
    "- **check your implementation** with numerical gradient\n",
    "- use a validation set to **tune the learning rate and regularization** strength\n",
    "- **optimize** the loss function with **SGD**\n",
    "- **visualize** the final learned weights\n"
   ]
  },
  {
   "cell_type": "code",
   "execution_count": 1,
   "metadata": {},
   "outputs": [],
   "source": [
    "import random\n",
    "import numpy as np\n",
    "from cs231n.data_utils import load_CIFAR10\n",
    "import matplotlib.pyplot as plt\n",
    "\n",
    "from __future__ import print_function\n",
    "\n",
    "%matplotlib inline\n",
    "plt.rcParams['figure.figsize'] = (10.0, 8.0) # set default size of plots\n",
    "plt.rcParams['image.interpolation'] = 'nearest'\n",
    "plt.rcParams['image.cmap'] = 'gray'\n",
    "\n",
    "# for auto-reloading extenrnal modules\n",
    "# see http://stackoverflow.com/questions/1907993/autoreload-of-modules-in-ipython\n",
    "%load_ext autoreload\n",
    "%autoreload 2"
   ]
  },
  {
   "cell_type": "code",
   "execution_count": 2,
   "metadata": {},
   "outputs": [
    {
     "name": "stdout",
     "output_type": "stream",
     "text": [
      "Train data shape:  (49000, 3073)\n",
      "Train labels shape:  (49000,)\n",
      "Validation data shape:  (1000, 3073)\n",
      "Validation labels shape:  (1000,)\n",
      "Test data shape:  (1000, 3073)\n",
      "Test labels shape:  (1000,)\n",
      "dev data shape:  (500, 3073)\n",
      "dev labels shape:  (500,)\n"
     ]
    }
   ],
   "source": [
    "def get_CIFAR10_data(num_training=49000, num_validation=1000, num_test=1000, num_dev=500):\n",
    "    \"\"\"\n",
    "    Load the CIFAR-10 dataset from disk and perform preprocessing to prepare\n",
    "    it for the linear classifier. These are the same steps as we used for the\n",
    "    SVM, but condensed to a single function.  \n",
    "    \"\"\"\n",
    "    # Load the raw CIFAR-10 data\n",
    "    cifar10_dir = 'cs231n/datasets/cifar-10-batches-py'\n",
    "    \n",
    "    X_train, y_train, X_test, y_test = load_CIFAR10(cifar10_dir)\n",
    "    \n",
    "    # subsample the data\n",
    "    mask = list(range(num_training, num_training + num_validation))\n",
    "    X_val = X_train[mask]\n",
    "    y_val = y_train[mask]\n",
    "    mask = list(range(num_training))\n",
    "    X_train = X_train[mask]\n",
    "    y_train = y_train[mask]\n",
    "    mask = list(range(num_test))\n",
    "    X_test = X_test[mask]\n",
    "    y_test = y_test[mask]\n",
    "    mask = np.random.choice(num_training, num_dev, replace=False)\n",
    "    X_dev = X_train[mask]\n",
    "    y_dev = y_train[mask]\n",
    "    \n",
    "    # Preprocessing: reshape the image data into rows\n",
    "    X_train = np.reshape(X_train, (X_train.shape[0], -1))\n",
    "    X_val = np.reshape(X_val, (X_val.shape[0], -1))\n",
    "    X_test = np.reshape(X_test, (X_test.shape[0], -1))\n",
    "    X_dev = np.reshape(X_dev, (X_dev.shape[0], -1))\n",
    "    \n",
    "    # Normalize the data: subtract the mean image\n",
    "    mean_image = np.mean(X_train, axis = 0)\n",
    "    X_train -= mean_image\n",
    "    X_val -= mean_image\n",
    "    X_test -= mean_image\n",
    "    X_dev -= mean_image\n",
    "    \n",
    "    # add bias dimension and transform into columns\n",
    "    X_train = np.hstack([X_train, np.ones((X_train.shape[0], 1))])\n",
    "    X_val = np.hstack([X_val, np.ones((X_val.shape[0], 1))])\n",
    "    X_test = np.hstack([X_test, np.ones((X_test.shape[0], 1))])\n",
    "    X_dev = np.hstack([X_dev, np.ones((X_dev.shape[0], 1))])\n",
    "    \n",
    "    return X_train, y_train, X_val, y_val, X_test, y_test, X_dev, y_dev\n",
    "\n",
    "\n",
    "# Cleaning up variables to prevent loading data multiple times (which may cause memory issue)\n",
    "try:\n",
    "    del X_train, y_train\n",
    "    del X_test, y_test\n",
    "    print('Clear previously loaded data.')\n",
    "except:\n",
    "    pass\n",
    "\n",
    "# Invoke the above function to get our data.\n",
    "X_train, y_train, X_val, y_val, X_test, y_test, X_dev, y_dev = get_CIFAR10_data()\n",
    "print('Train data shape: ', X_train.shape)\n",
    "print('Train labels shape: ', y_train.shape)\n",
    "print('Validation data shape: ', X_val.shape)\n",
    "print('Validation labels shape: ', y_val.shape)\n",
    "print('Test data shape: ', X_test.shape)\n",
    "print('Test labels shape: ', y_test.shape)\n",
    "print('dev data shape: ', X_dev.shape)\n",
    "print('dev labels shape: ', y_dev.shape)"
   ]
  },
  {
   "cell_type": "markdown",
   "metadata": {},
   "source": [
    "## Softmax Classifier\n",
    "\n",
    "Your code for this section will all be written inside **cs231n/classifiers/softmax.py**. \n"
   ]
  },
  {
   "cell_type": "code",
   "execution_count": 3,
   "metadata": {},
   "outputs": [
    {
     "name": "stdout",
     "output_type": "stream",
     "text": [
      "loss: 2.306572\n",
      "sanity check: 2.302585\n"
     ]
    }
   ],
   "source": [
    "# First implement the naive softmax loss function with nested loops.\n",
    "# Open the file cs231n/classifiers/softmax.py and implement the\n",
    "# softmax_loss_naive function.\n",
    "\n",
    "from cs231n.classifiers.softmax import softmax_loss_naive\n",
    "import time\n",
    "\n",
    "# Generate a random softmax weight matrix and use it to compute the loss.\n",
    "W = np.random.randn(3073, 10) * 0.0001\n",
    "loss, grad = softmax_loss_naive(W, X_dev, y_dev, 0.0)\n",
    "\n",
    "# As a rough sanity check, our loss should be something close to -log(0.1).\n",
    "print('loss: %f' % loss)\n",
    "print('sanity check: %f' % (-np.log(0.1)))"
   ]
  },
  {
   "cell_type": "markdown",
   "metadata": {},
   "source": [
    "## Inline Question 1:\n",
    "Why do we expect our loss to be close to -log(0.1)? Explain briefly.**\n",
    "\n",
    "**Your answer:** *Fill this in*\n"
   ]
  },
  {
   "cell_type": "code",
   "execution_count": 4,
   "metadata": {},
   "outputs": [
    {
     "name": "stdout",
     "output_type": "stream",
     "text": [
      "numerical: -2.549612 analytic: -2.549612, relative error: 1.255549e-09\n",
      "numerical: 0.410817 analytic: 0.410817, relative error: 1.116499e-08\n",
      "numerical: 0.801849 analytic: 0.801849, relative error: 1.184298e-08\n",
      "numerical: 3.531608 analytic: 3.531608, relative error: 1.877992e-08\n",
      "numerical: 2.036938 analytic: 2.036938, relative error: 2.950218e-08\n",
      "numerical: 1.309587 analytic: 1.309587, relative error: 1.100027e-08\n",
      "numerical: 0.603836 analytic: 0.603836, relative error: 6.001137e-08\n",
      "numerical: 0.119635 analytic: 0.119635, relative error: 2.146008e-07\n",
      "numerical: 0.896463 analytic: 0.896463, relative error: 1.033578e-07\n",
      "numerical: 2.209882 analytic: 2.209882, relative error: 1.825299e-08\n",
      "numerical: -0.044410 analytic: -0.044410, relative error: 1.354298e-06\n",
      "numerical: 0.726621 analytic: 0.726621, relative error: 7.268989e-08\n",
      "numerical: 0.745638 analytic: 0.745638, relative error: 4.319240e-08\n",
      "numerical: -1.150978 analytic: -1.150978, relative error: 1.008644e-08\n",
      "numerical: -0.683470 analytic: -0.683470, relative error: 3.571704e-08\n",
      "numerical: -1.410884 analytic: -1.410884, relative error: 1.554358e-09\n",
      "numerical: -2.291920 analytic: -2.291920, relative error: 9.005911e-09\n",
      "numerical: -0.688755 analytic: -0.688755, relative error: 1.473440e-07\n",
      "numerical: 0.207206 analytic: 0.207206, relative error: 6.159919e-09\n",
      "numerical: -1.880236 analytic: -1.880236, relative error: 4.348629e-09\n"
     ]
    }
   ],
   "source": [
    "# Complete the implementation of softmax_loss_naive and implement a (naive)\n",
    "# version of the gradient that uses nested loops.\n",
    "loss, grad = softmax_loss_naive(W, X_dev, y_dev, 0.0)\n",
    "\n",
    "# As we did for the SVM, use numeric gradient checking as a debugging tool.\n",
    "# The numeric gradient should be close to the analytic gradient.\n",
    "from cs231n.gradient_check import grad_check_sparse\n",
    "f = lambda w: softmax_loss_naive(w, X_dev, y_dev, 0.0)[0]\n",
    "grad_numerical = grad_check_sparse(f, W, grad, 10)\n",
    "\n",
    "# similar to SVM case, do another gradient check with regularization\n",
    "loss, grad = softmax_loss_naive(W, X_dev, y_dev, 5e1)\n",
    "f = lambda w: softmax_loss_naive(w, X_dev, y_dev, 5e1)[0]\n",
    "grad_numerical = grad_check_sparse(f, W, grad, 10)"
   ]
  },
  {
   "cell_type": "code",
   "execution_count": 5,
   "metadata": {},
   "outputs": [
    {
     "name": "stdout",
     "output_type": "stream",
     "text": [
      "naive loss: 2.306572e+00 computed in 0.097031s\n",
      "vectorized loss: 2.306572e+00 computed in 0.005583s\n",
      "Loss difference: 0.000000\n",
      "Gradient difference: 0.000000\n"
     ]
    }
   ],
   "source": [
    "# Now that we have a naive implementation of the softmax loss function and its gradient,\n",
    "# implement a vectorized version in softmax_loss_vectorized.\n",
    "# The two versions should compute the same results, but the vectorized version should be\n",
    "# much faster.\n",
    "tic = time.time()\n",
    "loss_naive, grad_naive = softmax_loss_naive(W, X_dev, y_dev, 0.000005)\n",
    "toc = time.time()\n",
    "print('naive loss: %e computed in %fs' % (loss_naive, toc - tic))\n",
    "\n",
    "from cs231n.classifiers.softmax import softmax_loss_vectorized\n",
    "tic = time.time()\n",
    "loss_vectorized, grad_vectorized = softmax_loss_vectorized(W, X_dev, y_dev, 0.000005)\n",
    "toc = time.time()\n",
    "print('vectorized loss: %e computed in %fs' % (loss_vectorized, toc - tic))\n",
    "\n",
    "# As we did for the SVM, we use the Frobenius norm to compare the two versions\n",
    "# of the gradient.\n",
    "grad_difference = np.linalg.norm(grad_naive - grad_vectorized, ord='fro')\n",
    "print('Loss difference: %f' % np.abs(loss_naive - loss_vectorized))\n",
    "print('Gradient difference: %f' % grad_difference)"
   ]
  },
  {
   "cell_type": "code",
   "execution_count": 6,
   "metadata": {},
   "outputs": [
    {
     "name": "stdout",
     "output_type": "stream",
     "text": [
      "iteration 0 / 1500: loss 315.393085\n",
      "iteration 100 / 1500: loss 210.158353\n",
      "iteration 200 / 1500: loss 140.966167\n",
      "iteration 300 / 1500: loss 94.853943\n",
      "iteration 400 / 1500: loss 64.080343\n",
      "iteration 500 / 1500: loss 43.475657\n",
      "iteration 600 / 1500: loss 29.765197\n",
      "iteration 700 / 1500: loss 20.636948\n",
      "iteration 800 / 1500: loss 14.416395\n",
      "iteration 900 / 1500: loss 10.294566\n",
      "iteration 1000 / 1500: loss 7.582612\n",
      "iteration 1100 / 1500: loss 5.794192\n",
      "iteration 1200 / 1500: loss 4.496542\n",
      "iteration 1300 / 1500: loss 3.626213\n",
      "iteration 1400 / 1500: loss 3.051761\n",
      "iteration 0 / 1500: loss 782.957635\n",
      "iteration 100 / 1500: loss 287.702105\n",
      "iteration 200 / 1500: loss 106.665964\n",
      "iteration 300 / 1500: loss 40.314642\n",
      "iteration 400 / 1500: loss 16.111884\n",
      "iteration 500 / 1500: loss 7.132213\n",
      "iteration 600 / 1500: loss 4.015112\n",
      "iteration 700 / 1500: loss 2.779251\n",
      "iteration 800 / 1500: loss 2.321944\n",
      "iteration 900 / 1500: loss 2.179808\n",
      "iteration 1000 / 1500: loss 2.086209\n",
      "iteration 1100 / 1500: loss 2.063794\n",
      "iteration 1200 / 1500: loss 2.091309\n",
      "iteration 1300 / 1500: loss 2.101148\n",
      "iteration 1400 / 1500: loss 2.042511\n",
      "iteration 0 / 1500: loss 1557.584581\n",
      "iteration 100 / 1500: loss 209.792963\n",
      "iteration 200 / 1500: loss 29.845971\n",
      "iteration 300 / 1500: loss 5.822739\n",
      "iteration 400 / 1500: loss 2.698212\n",
      "iteration 500 / 1500: loss 2.251509\n",
      "iteration 600 / 1500: loss 2.212637\n",
      "iteration 700 / 1500: loss 2.132025\n",
      "iteration 800 / 1500: loss 2.114773\n",
      "iteration 900 / 1500: loss 2.135959\n",
      "iteration 1000 / 1500: loss 2.149652\n",
      "iteration 1100 / 1500: loss 2.167630\n",
      "iteration 1200 / 1500: loss 2.103468\n",
      "iteration 1300 / 1500: loss 2.144636\n",
      "iteration 1400 / 1500: loss 2.092566\n",
      "iteration 0 / 1500: loss 310.861730\n",
      "iteration 100 / 1500: loss 42.687263\n",
      "iteration 200 / 1500: loss 7.470373\n",
      "iteration 300 / 1500: loss 2.703642\n",
      "iteration 400 / 1500: loss 2.074951\n",
      "iteration 500 / 1500: loss 2.062019\n",
      "iteration 600 / 1500: loss 1.995791\n",
      "iteration 700 / 1500: loss 1.916190\n",
      "iteration 800 / 1500: loss 2.008462\n",
      "iteration 900 / 1500: loss 1.997413\n",
      "iteration 1000 / 1500: loss 1.992659\n",
      "iteration 1100 / 1500: loss 1.943838\n",
      "iteration 1200 / 1500: loss 2.060228\n",
      "iteration 1300 / 1500: loss 2.019525\n",
      "iteration 1400 / 1500: loss 2.018301\n",
      "iteration 0 / 1500: loss 776.142851\n",
      "iteration 100 / 1500: loss 6.909401\n",
      "iteration 200 / 1500: loss 2.117456\n",
      "iteration 300 / 1500: loss 2.160574\n",
      "iteration 400 / 1500: loss 2.030274\n",
      "iteration 500 / 1500: loss 2.130109\n",
      "iteration 600 / 1500: loss 2.053404\n",
      "iteration 700 / 1500: loss 2.127525\n",
      "iteration 800 / 1500: loss 2.107709\n",
      "iteration 900 / 1500: loss 2.066453\n",
      "iteration 1000 / 1500: loss 2.096348\n",
      "iteration 1100 / 1500: loss 2.099490\n",
      "iteration 1200 / 1500: loss 2.106182\n",
      "iteration 1300 / 1500: loss 2.091350\n",
      "iteration 1400 / 1500: loss 2.062599\n",
      "iteration 0 / 1500: loss 1546.168156\n",
      "iteration 100 / 1500: loss 2.173041\n",
      "iteration 200 / 1500: loss 2.172900\n",
      "iteration 300 / 1500: loss 2.169175\n",
      "iteration 400 / 1500: loss 2.136733\n",
      "iteration 500 / 1500: loss 2.122823\n",
      "iteration 600 / 1500: loss 2.104686\n",
      "iteration 700 / 1500: loss 2.164503\n",
      "iteration 800 / 1500: loss 2.173569\n",
      "iteration 900 / 1500: loss 2.159382\n",
      "iteration 1000 / 1500: loss 2.124819\n",
      "iteration 1100 / 1500: loss 2.155883\n",
      "iteration 1200 / 1500: loss 2.086791\n",
      "iteration 1300 / 1500: loss 2.122641\n",
      "iteration 1400 / 1500: loss 2.148010\n",
      "lr 1.000000e-07 reg 1.000000e+04 train accuracy: 0.355041 val accuracy: 0.362000\n",
      "lr 1.000000e-07 reg 2.500000e+04 train accuracy: 0.327388 val accuracy: 0.348000\n",
      "lr 1.000000e-07 reg 5.000000e+04 train accuracy: 0.311265 val accuracy: 0.329000\n",
      "lr 5.000000e-07 reg 1.000000e+04 train accuracy: 0.354143 val accuracy: 0.363000\n",
      "lr 5.000000e-07 reg 2.500000e+04 train accuracy: 0.330347 val accuracy: 0.342000\n",
      "lr 5.000000e-07 reg 5.000000e+04 train accuracy: 0.303265 val accuracy: 0.312000\n",
      "best validation accuracy achieved during cross-validation: 0.363000\n"
     ]
    }
   ],
   "source": [
    "# Use the validation set to tune hyperparameters (regularization strength and\n",
    "# learning rate). You should experiment with different ranges for the learning\n",
    "# rates and regularization strengths; if you are careful you should be able to\n",
    "# get a classification accuracy of over 0.35 on the validation set.\n",
    "from cs231n.classifiers import Softmax\n",
    "results = {}\n",
    "best_val = -1\n",
    "best_softmax = None\n",
    "learning_rates = [1e-7, 5e-7]\n",
    "regularization_strengths = [1e4,2.5e4, 5e4]\n",
    "\n",
    "################################################################################\n",
    "# TODO:                                                                        #\n",
    "# Use the validation set to set the learning rate and regularization strength. #\n",
    "# This should be identical to the validation that you did for the SVM; save    #\n",
    "# the best trained softmax classifer in best_softmax.                          #\n",
    "################################################################################\n",
    "for l in learning_rates:\n",
    "    for r in regularization_strengths:\n",
    "        softmax = Softmax()\n",
    "        loss_hist = softmax.train(X_train, y_train, learning_rate=l, reg=r,\n",
    "                      num_iters=1500, verbose=True)\n",
    "        y_train_pred = softmax.predict(X_train)\n",
    "        y_val_pred = softmax.predict(X_val)\n",
    "        train_acc = np.mean(y_train == y_train_pred)\n",
    "        val_acc = np.mean(y_val == y_val_pred)\n",
    "        results[(l,r)] = (train_acc,val_acc)\n",
    "        if val_acc > best_val:\n",
    "            best_val = val_acc\n",
    "            best_softmax = softmax\n",
    "################################################################################\n",
    "#                              END OF YOUR CODE                                #\n",
    "################################################################################\n",
    "    \n",
    "# Print out results.\n",
    "for lr, reg in sorted(results):\n",
    "    train_accuracy, val_accuracy = results[(lr, reg)]\n",
    "    print('lr %e reg %e train accuracy: %f val accuracy: %f' % (\n",
    "                lr, reg, train_accuracy, val_accuracy))\n",
    "    \n",
    "print('best validation accuracy achieved during cross-validation: %f' % best_val)"
   ]
  },
  {
   "cell_type": "code",
   "execution_count": 7,
   "metadata": {},
   "outputs": [
    {
     "name": "stdout",
     "output_type": "stream",
     "text": [
      "softmax on raw pixels final test set accuracy: 0.360000\n"
     ]
    }
   ],
   "source": [
    "# evaluate on test set\n",
    "# Evaluate the best softmax on test set\n",
    "y_test_pred = best_softmax.predict(X_test)\n",
    "test_accuracy = np.mean(y_test == y_test_pred)\n",
    "print('softmax on raw pixels final test set accuracy: %f' % (test_accuracy, ))"
   ]
  },
  {
   "cell_type": "markdown",
   "metadata": {},
   "source": [
    "**Inline Question** - *True or False*\n",
    "\n",
    "It's possible to add a new datapoint to a training set that would leave the SVM loss unchanged, but this is not the case with the Softmax classifier loss.\n",
    "\n",
    "*Your answer*:\n",
    "\n",
    "*Your explanation*:"
   ]
  },
  {
   "cell_type": "code",
   "execution_count": 8,
   "metadata": {},
   "outputs": [
    {
     "data": {
      "image/png": "[encoded data removed]",
      "text/plain": [
       "<Figure size 432x288 with 10 Axes>"
      ]
     },
     "metadata": {
      "needs_background": "light"
     },
     "output_type": "display_data"
    }
   ],
   "source": [
    "# Visualize the learned weights for each class\n",
    "w = best_softmax.W[:-1,:] # strip out the bias\n",
    "w = w.reshape(32, 32, 3, 10)\n",
    "\n",
    "w_min, w_max = np.min(w), np.max(w)\n",
    "\n",
    "classes = ['plane', 'car', 'bird', 'cat', 'deer', 'dog', 'frog', 'horse', 'ship', 'truck']\n",
    "for i in range(10):\n",
    "    plt.subplot(2, 5, i + 1)\n",
    "    \n",
    "    # Rescale the weights to be between 0 and 255\n",
    "    wimg = 255.0 * (w[:, :, :, i].squeeze() - w_min) / (w_max - w_min)\n",
    "    plt.imshow(wimg.astype('uint8'))\n",
    "    plt.axis('off')\n",
    "    plt.title(classes[i])"
   ]
  }
 ],
 "metadata": {
  "kernelspec": {
   "display_name": "Python 3",
   "language": "python",
   "name": "python3"
  },
  "language_info": {
   "codemirror_mode": {
    "name": "ipython",
    "version": 3
   },
   "file_extension": ".py",
   "mimetype": "text/x-python",
   "name": "python",
   "nbconvert_exporter": "python",
   "pygments_lexer": "ipython3",
   "version": "3.6.7"
  }
 },
 "nbformat": 4,
 "nbformat_minor": 1
}
